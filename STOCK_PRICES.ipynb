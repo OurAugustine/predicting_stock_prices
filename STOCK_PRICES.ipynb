{
 "cells": [
  {
   "cell_type": "markdown",
   "metadata": {},
   "source": [
    "# PREDICTING STOCK PRICES "
   ]
  },
  {
   "cell_type": "code",
   "execution_count": 1,
   "metadata": {},
   "outputs": [
    {
     "data": {
      "text/html": [
       "<div>\n",
       "<style>\n",
       "    .dataframe thead tr:only-child th {\n",
       "        text-align: right;\n",
       "    }\n",
       "\n",
       "    .dataframe thead th {\n",
       "        text-align: left;\n",
       "    }\n",
       "\n",
       "    .dataframe tbody tr th {\n",
       "        vertical-align: top;\n",
       "    }\n",
       "</style>\n",
       "<table border=\"1\" class=\"dataframe\">\n",
       "  <thead>\n",
       "    <tr style=\"text-align: right;\">\n",
       "      <th></th>\n",
       "      <th>Open</th>\n",
       "      <th>High</th>\n",
       "      <th>Low</th>\n",
       "      <th>Close</th>\n",
       "      <th>Adj Close</th>\n",
       "      <th>Volume</th>\n",
       "    </tr>\n",
       "    <tr>\n",
       "      <th>Date</th>\n",
       "      <th></th>\n",
       "      <th></th>\n",
       "      <th></th>\n",
       "      <th></th>\n",
       "      <th></th>\n",
       "      <th></th>\n",
       "    </tr>\n",
       "  </thead>\n",
       "  <tbody>\n",
       "    <tr>\n",
       "      <th>2017-05-30</th>\n",
       "      <td>26.290001</td>\n",
       "      <td>26.440001</td>\n",
       "      <td>25.920000</td>\n",
       "      <td>26.320000</td>\n",
       "      <td>26.035059</td>\n",
       "      <td>150900</td>\n",
       "    </tr>\n",
       "    <tr>\n",
       "      <th>2017-05-31</th>\n",
       "      <td>26.430000</td>\n",
       "      <td>26.490000</td>\n",
       "      <td>25.930000</td>\n",
       "      <td>26.290001</td>\n",
       "      <td>26.005384</td>\n",
       "      <td>94600</td>\n",
       "    </tr>\n",
       "    <tr>\n",
       "      <th>2017-06-01</th>\n",
       "      <td>26.480000</td>\n",
       "      <td>26.650000</td>\n",
       "      <td>26.240000</td>\n",
       "      <td>26.629999</td>\n",
       "      <td>26.341703</td>\n",
       "      <td>64500</td>\n",
       "    </tr>\n",
       "    <tr>\n",
       "      <th>2017-06-02</th>\n",
       "      <td>26.629999</td>\n",
       "      <td>27.379999</td>\n",
       "      <td>26.629999</td>\n",
       "      <td>26.910000</td>\n",
       "      <td>26.618671</td>\n",
       "      <td>81100</td>\n",
       "    </tr>\n",
       "    <tr>\n",
       "      <th>2017-06-05</th>\n",
       "      <td>26.900000</td>\n",
       "      <td>26.930000</td>\n",
       "      <td>26.590000</td>\n",
       "      <td>26.730000</td>\n",
       "      <td>26.440620</td>\n",
       "      <td>54200</td>\n",
       "    </tr>\n",
       "  </tbody>\n",
       "</table>\n",
       "</div>"
      ],
      "text/plain": [
       "                 Open       High        Low      Close  Adj Close  Volume\n",
       "Date                                                                     \n",
       "2017-05-30  26.290001  26.440001  25.920000  26.320000  26.035059  150900\n",
       "2017-05-31  26.430000  26.490000  25.930000  26.290001  26.005384   94600\n",
       "2017-06-01  26.480000  26.650000  26.240000  26.629999  26.341703   64500\n",
       "2017-06-02  26.629999  27.379999  26.629999  26.910000  26.618671   81100\n",
       "2017-06-05  26.900000  26.930000  26.590000  26.730000  26.440620   54200"
      ]
     },
     "execution_count": 1,
     "metadata": {},
     "output_type": "execute_result"
    }
   ],
   "source": [
    "import pandas as pd\n",
    "import numpy as np \n",
    "df=pd.read_csv(\"Carriage Services_ Inc.csv\",index_col='Date',parse_dates=True)\n",
    "df.head()"
   ]
  },
  {
   "cell_type": "code",
   "execution_count": 2,
   "metadata": {},
   "outputs": [
    {
     "data": {
      "text/plain": [
       "(252, 6)"
      ]
     },
     "execution_count": 2,
     "metadata": {},
     "output_type": "execute_result"
    }
   ],
   "source": [
    "df.shape"
   ]
  },
  {
   "cell_type": "code",
   "execution_count": 3,
   "metadata": {},
   "outputs": [
    {
     "name": "stdout",
     "output_type": "stream",
     "text": [
      "<class 'pandas.core.frame.DataFrame'>\n",
      "DatetimeIndex: 252 entries, 2017-05-30 to 2018-05-29\n",
      "Data columns (total 6 columns):\n",
      "Open         252 non-null float64\n",
      "High         252 non-null float64\n",
      "Low          252 non-null float64\n",
      "Close        252 non-null float64\n",
      "Adj Close    252 non-null float64\n",
      "Volume       252 non-null int64\n",
      "dtypes: float64(5), int64(1)\n",
      "memory usage: 13.8 KB\n"
     ]
    }
   ],
   "source": [
    "df.info()"
   ]
  },
  {
   "cell_type": "markdown",
   "metadata": {},
   "source": [
    "# creating a new column to use "
   ]
  },
  {
   "cell_type": "code",
   "execution_count": 4,
   "metadata": {
    "collapsed": true
   },
   "outputs": [],
   "source": [
    "df['average']=(df['Open']+df['Close'])/2"
   ]
  },
  {
   "cell_type": "code",
   "execution_count": 5,
   "metadata": {},
   "outputs": [
    {
     "data": {
      "text/html": [
       "<div>\n",
       "<style>\n",
       "    .dataframe thead tr:only-child th {\n",
       "        text-align: right;\n",
       "    }\n",
       "\n",
       "    .dataframe thead th {\n",
       "        text-align: left;\n",
       "    }\n",
       "\n",
       "    .dataframe tbody tr th {\n",
       "        vertical-align: top;\n",
       "    }\n",
       "</style>\n",
       "<table border=\"1\" class=\"dataframe\">\n",
       "  <thead>\n",
       "    <tr style=\"text-align: right;\">\n",
       "      <th></th>\n",
       "      <th>Open</th>\n",
       "      <th>High</th>\n",
       "      <th>Low</th>\n",
       "      <th>Close</th>\n",
       "      <th>Adj Close</th>\n",
       "      <th>Volume</th>\n",
       "      <th>average</th>\n",
       "    </tr>\n",
       "    <tr>\n",
       "      <th>Date</th>\n",
       "      <th></th>\n",
       "      <th></th>\n",
       "      <th></th>\n",
       "      <th></th>\n",
       "      <th></th>\n",
       "      <th></th>\n",
       "      <th></th>\n",
       "    </tr>\n",
       "  </thead>\n",
       "  <tbody>\n",
       "    <tr>\n",
       "      <th>2017-05-30</th>\n",
       "      <td>26.290001</td>\n",
       "      <td>26.440001</td>\n",
       "      <td>25.920000</td>\n",
       "      <td>26.320000</td>\n",
       "      <td>26.035059</td>\n",
       "      <td>150900</td>\n",
       "      <td>26.305000</td>\n",
       "    </tr>\n",
       "    <tr>\n",
       "      <th>2017-05-31</th>\n",
       "      <td>26.430000</td>\n",
       "      <td>26.490000</td>\n",
       "      <td>25.930000</td>\n",
       "      <td>26.290001</td>\n",
       "      <td>26.005384</td>\n",
       "      <td>94600</td>\n",
       "      <td>26.360000</td>\n",
       "    </tr>\n",
       "    <tr>\n",
       "      <th>2017-06-01</th>\n",
       "      <td>26.480000</td>\n",
       "      <td>26.650000</td>\n",
       "      <td>26.240000</td>\n",
       "      <td>26.629999</td>\n",
       "      <td>26.341703</td>\n",
       "      <td>64500</td>\n",
       "      <td>26.555000</td>\n",
       "    </tr>\n",
       "    <tr>\n",
       "      <th>2017-06-02</th>\n",
       "      <td>26.629999</td>\n",
       "      <td>27.379999</td>\n",
       "      <td>26.629999</td>\n",
       "      <td>26.910000</td>\n",
       "      <td>26.618671</td>\n",
       "      <td>81100</td>\n",
       "      <td>26.769999</td>\n",
       "    </tr>\n",
       "    <tr>\n",
       "      <th>2017-06-05</th>\n",
       "      <td>26.900000</td>\n",
       "      <td>26.930000</td>\n",
       "      <td>26.590000</td>\n",
       "      <td>26.730000</td>\n",
       "      <td>26.440620</td>\n",
       "      <td>54200</td>\n",
       "      <td>26.815000</td>\n",
       "    </tr>\n",
       "  </tbody>\n",
       "</table>\n",
       "</div>"
      ],
      "text/plain": [
       "                 Open       High        Low      Close  Adj Close  Volume  \\\n",
       "Date                                                                        \n",
       "2017-05-30  26.290001  26.440001  25.920000  26.320000  26.035059  150900   \n",
       "2017-05-31  26.430000  26.490000  25.930000  26.290001  26.005384   94600   \n",
       "2017-06-01  26.480000  26.650000  26.240000  26.629999  26.341703   64500   \n",
       "2017-06-02  26.629999  27.379999  26.629999  26.910000  26.618671   81100   \n",
       "2017-06-05  26.900000  26.930000  26.590000  26.730000  26.440620   54200   \n",
       "\n",
       "              average  \n",
       "Date                   \n",
       "2017-05-30  26.305000  \n",
       "2017-05-31  26.360000  \n",
       "2017-06-01  26.555000  \n",
       "2017-06-02  26.769999  \n",
       "2017-06-05  26.815000  "
      ]
     },
     "execution_count": 5,
     "metadata": {},
     "output_type": "execute_result"
    }
   ],
   "source": [
    "df.head()"
   ]
  },
  {
   "cell_type": "markdown",
   "metadata": {},
   "source": [
    "# Cleaning by  column names consistancy "
   ]
  },
  {
   "cell_type": "code",
   "execution_count": 6,
   "metadata": {},
   "outputs": [
    {
     "data": {
      "text/plain": [
       "Index(['Open', 'High', 'Low', 'Close', 'Adj Close', 'Volume', 'average'], dtype='object')"
      ]
     },
     "execution_count": 6,
     "metadata": {},
     "output_type": "execute_result"
    }
   ],
   "source": [
    "df.columns"
   ]
  },
  {
   "cell_type": "code",
   "execution_count": 7,
   "metadata": {},
   "outputs": [
    {
     "data": {
      "text/plain": [
       "Index(['open', 'high', 'low', 'close', 'adj close', 'volume', 'average'], dtype='object')"
      ]
     },
     "execution_count": 7,
     "metadata": {},
     "output_type": "execute_result"
    }
   ],
   "source": [
    "df.columns=df.columns.str.lower()\n",
    "df.columns"
   ]
  },
  {
   "cell_type": "markdown",
   "metadata": {},
   "source": [
    "renaming adj close to adj_close"
   ]
  },
  {
   "cell_type": "code",
   "execution_count": 8,
   "metadata": {},
   "outputs": [
    {
     "data": {
      "text/html": [
       "<div>\n",
       "<style>\n",
       "    .dataframe thead tr:only-child th {\n",
       "        text-align: right;\n",
       "    }\n",
       "\n",
       "    .dataframe thead th {\n",
       "        text-align: left;\n",
       "    }\n",
       "\n",
       "    .dataframe tbody tr th {\n",
       "        vertical-align: top;\n",
       "    }\n",
       "</style>\n",
       "<table border=\"1\" class=\"dataframe\">\n",
       "  <thead>\n",
       "    <tr style=\"text-align: right;\">\n",
       "      <th></th>\n",
       "      <th>open</th>\n",
       "      <th>high</th>\n",
       "      <th>low</th>\n",
       "      <th>close</th>\n",
       "      <th>adj_close</th>\n",
       "      <th>volume</th>\n",
       "      <th>average</th>\n",
       "    </tr>\n",
       "    <tr>\n",
       "      <th>Date</th>\n",
       "      <th></th>\n",
       "      <th></th>\n",
       "      <th></th>\n",
       "      <th></th>\n",
       "      <th></th>\n",
       "      <th></th>\n",
       "      <th></th>\n",
       "    </tr>\n",
       "  </thead>\n",
       "  <tbody>\n",
       "    <tr>\n",
       "      <th>2017-05-30</th>\n",
       "      <td>26.290001</td>\n",
       "      <td>26.440001</td>\n",
       "      <td>25.920000</td>\n",
       "      <td>26.320000</td>\n",
       "      <td>26.035059</td>\n",
       "      <td>150900</td>\n",
       "      <td>26.305000</td>\n",
       "    </tr>\n",
       "    <tr>\n",
       "      <th>2017-05-31</th>\n",
       "      <td>26.430000</td>\n",
       "      <td>26.490000</td>\n",
       "      <td>25.930000</td>\n",
       "      <td>26.290001</td>\n",
       "      <td>26.005384</td>\n",
       "      <td>94600</td>\n",
       "      <td>26.360000</td>\n",
       "    </tr>\n",
       "    <tr>\n",
       "      <th>2017-06-01</th>\n",
       "      <td>26.480000</td>\n",
       "      <td>26.650000</td>\n",
       "      <td>26.240000</td>\n",
       "      <td>26.629999</td>\n",
       "      <td>26.341703</td>\n",
       "      <td>64500</td>\n",
       "      <td>26.555000</td>\n",
       "    </tr>\n",
       "    <tr>\n",
       "      <th>2017-06-02</th>\n",
       "      <td>26.629999</td>\n",
       "      <td>27.379999</td>\n",
       "      <td>26.629999</td>\n",
       "      <td>26.910000</td>\n",
       "      <td>26.618671</td>\n",
       "      <td>81100</td>\n",
       "      <td>26.769999</td>\n",
       "    </tr>\n",
       "    <tr>\n",
       "      <th>2017-06-05</th>\n",
       "      <td>26.900000</td>\n",
       "      <td>26.930000</td>\n",
       "      <td>26.590000</td>\n",
       "      <td>26.730000</td>\n",
       "      <td>26.440620</td>\n",
       "      <td>54200</td>\n",
       "      <td>26.815000</td>\n",
       "    </tr>\n",
       "  </tbody>\n",
       "</table>\n",
       "</div>"
      ],
      "text/plain": [
       "                 open       high        low      close  adj_close  volume  \\\n",
       "Date                                                                        \n",
       "2017-05-30  26.290001  26.440001  25.920000  26.320000  26.035059  150900   \n",
       "2017-05-31  26.430000  26.490000  25.930000  26.290001  26.005384   94600   \n",
       "2017-06-01  26.480000  26.650000  26.240000  26.629999  26.341703   64500   \n",
       "2017-06-02  26.629999  27.379999  26.629999  26.910000  26.618671   81100   \n",
       "2017-06-05  26.900000  26.930000  26.590000  26.730000  26.440620   54200   \n",
       "\n",
       "              average  \n",
       "Date                   \n",
       "2017-05-30  26.305000  \n",
       "2017-05-31  26.360000  \n",
       "2017-06-01  26.555000  \n",
       "2017-06-02  26.769999  \n",
       "2017-06-05  26.815000  "
      ]
     },
     "execution_count": 8,
     "metadata": {},
     "output_type": "execute_result"
    }
   ],
   "source": [
    "df.rename(columns={'adj close':'adj_close'}).head()"
   ]
  },
  {
   "cell_type": "markdown",
   "metadata": {},
   "source": [
    "# view our data trend on the average new column"
   ]
  },
  {
   "cell_type": "code",
   "execution_count": 9,
   "metadata": {},
   "outputs": [
    {
     "data": {
      "text/plain": [
       "<matplotlib.axes._subplots.AxesSubplot at 0x86c7a86390>"
      ]
     },
     "execution_count": 9,
     "metadata": {},
     "output_type": "execute_result"
    },
    {
     "data": {
      "image/png": "[encoded data removed]",
      "text/plain": [
       "<matplotlib.figure.Figure at 0x86c7a5d908>"
      ]
     },
     "metadata": {},
     "output_type": "display_data"
    }
   ],
   "source": [
    "%matplotlib inline\n",
    "import seaborn; seaborn.set()\n",
    "df.average.plot()"
   ]
  },
  {
   "cell_type": "markdown",
   "metadata": {},
   "source": [
    "picking out the two array we need for our model \n",
    "\n",
    "    the  Date and the average \n",
    "    \n",
    "Fisrt we reset "
   ]
  },
  {
   "cell_type": "code",
   "execution_count": 10,
   "metadata": {
    "collapsed": true
   },
   "outputs": [],
   "source": [
    "df=df.reset_index()"
   ]
  },
  {
   "cell_type": "code",
   "execution_count": 11,
   "metadata": {},
   "outputs": [
    {
     "data": {
      "text/plain": [
       "Index(['Date', 'open', 'high', 'low', 'close', 'adj close', 'volume',\n",
       "       'average'],\n",
       "      dtype='object')"
      ]
     },
     "execution_count": 11,
     "metadata": {},
     "output_type": "execute_result"
    }
   ],
   "source": [
    "df.columns"
   ]
  },
  {
   "cell_type": "code",
   "execution_count": 12,
   "metadata": {},
   "outputs": [
    {
     "data": {
      "text/html": [
       "<div>\n",
       "<style>\n",
       "    .dataframe thead tr:only-child th {\n",
       "        text-align: right;\n",
       "    }\n",
       "\n",
       "    .dataframe thead th {\n",
       "        text-align: left;\n",
       "    }\n",
       "\n",
       "    .dataframe tbody tr th {\n",
       "        vertical-align: top;\n",
       "    }\n",
       "</style>\n",
       "<table border=\"1\" class=\"dataframe\">\n",
       "  <thead>\n",
       "    <tr style=\"text-align: right;\">\n",
       "      <th></th>\n",
       "      <th>Date</th>\n",
       "      <th>open</th>\n",
       "      <th>high</th>\n",
       "      <th>low</th>\n",
       "      <th>close</th>\n",
       "      <th>adj close</th>\n",
       "      <th>volume</th>\n",
       "      <th>average</th>\n",
       "    </tr>\n",
       "  </thead>\n",
       "  <tbody>\n",
       "    <tr>\n",
       "      <th>0</th>\n",
       "      <td>2017-05-30</td>\n",
       "      <td>26.290001</td>\n",
       "      <td>26.440001</td>\n",
       "      <td>25.920000</td>\n",
       "      <td>26.320000</td>\n",
       "      <td>26.035059</td>\n",
       "      <td>150900</td>\n",
       "      <td>26.305000</td>\n",
       "    </tr>\n",
       "    <tr>\n",
       "      <th>1</th>\n",
       "      <td>2017-05-31</td>\n",
       "      <td>26.430000</td>\n",
       "      <td>26.490000</td>\n",
       "      <td>25.930000</td>\n",
       "      <td>26.290001</td>\n",
       "      <td>26.005384</td>\n",
       "      <td>94600</td>\n",
       "      <td>26.360000</td>\n",
       "    </tr>\n",
       "    <tr>\n",
       "      <th>2</th>\n",
       "      <td>2017-06-01</td>\n",
       "      <td>26.480000</td>\n",
       "      <td>26.650000</td>\n",
       "      <td>26.240000</td>\n",
       "      <td>26.629999</td>\n",
       "      <td>26.341703</td>\n",
       "      <td>64500</td>\n",
       "      <td>26.555000</td>\n",
       "    </tr>\n",
       "    <tr>\n",
       "      <th>3</th>\n",
       "      <td>2017-06-02</td>\n",
       "      <td>26.629999</td>\n",
       "      <td>27.379999</td>\n",
       "      <td>26.629999</td>\n",
       "      <td>26.910000</td>\n",
       "      <td>26.618671</td>\n",
       "      <td>81100</td>\n",
       "      <td>26.769999</td>\n",
       "    </tr>\n",
       "    <tr>\n",
       "      <th>4</th>\n",
       "      <td>2017-06-05</td>\n",
       "      <td>26.900000</td>\n",
       "      <td>26.930000</td>\n",
       "      <td>26.590000</td>\n",
       "      <td>26.730000</td>\n",
       "      <td>26.440620</td>\n",
       "      <td>54200</td>\n",
       "      <td>26.815000</td>\n",
       "    </tr>\n",
       "  </tbody>\n",
       "</table>\n",
       "</div>"
      ],
      "text/plain": [
       "        Date       open       high        low      close  adj close  volume  \\\n",
       "0 2017-05-30  26.290001  26.440001  25.920000  26.320000  26.035059  150900   \n",
       "1 2017-05-31  26.430000  26.490000  25.930000  26.290001  26.005384   94600   \n",
       "2 2017-06-01  26.480000  26.650000  26.240000  26.629999  26.341703   64500   \n",
       "3 2017-06-02  26.629999  27.379999  26.629999  26.910000  26.618671   81100   \n",
       "4 2017-06-05  26.900000  26.930000  26.590000  26.730000  26.440620   54200   \n",
       "\n",
       "     average  \n",
       "0  26.305000  \n",
       "1  26.360000  \n",
       "2  26.555000  \n",
       "3  26.769999  \n",
       "4  26.815000  "
      ]
     },
     "execution_count": 12,
     "metadata": {},
     "output_type": "execute_result"
    }
   ],
   "source": [
    "df.head()"
   ]
  },
  {
   "cell_type": "code",
   "execution_count": 39,
   "metadata": {
    "collapsed": true
   },
   "outputs": [],
   "source": [
    "import datetime as dt\n",
    "df['Date'] = df['Date'].apply(lambda x: dt.datetime.strftime(x, '%Y-%m-%d'))"
   ]
  },
  {
   "cell_type": "code",
   "execution_count": 41,
   "metadata": {},
   "outputs": [
    {
     "data": {
      "text/html": [
       "<div>\n",
       "<style>\n",
       "    .dataframe thead tr:only-child th {\n",
       "        text-align: right;\n",
       "    }\n",
       "\n",
       "    .dataframe thead th {\n",
       "        text-align: left;\n",
       "    }\n",
       "\n",
       "    .dataframe tbody tr th {\n",
       "        vertical-align: top;\n",
       "    }\n",
       "</style>\n",
       "<table border=\"1\" class=\"dataframe\">\n",
       "  <thead>\n",
       "    <tr style=\"text-align: right;\">\n",
       "      <th></th>\n",
       "      <th>Date</th>\n",
       "      <th>open</th>\n",
       "      <th>high</th>\n",
       "      <th>low</th>\n",
       "      <th>close</th>\n",
       "      <th>adj close</th>\n",
       "      <th>volume</th>\n",
       "      <th>average</th>\n",
       "    </tr>\n",
       "  </thead>\n",
       "  <tbody>\n",
       "    <tr>\n",
       "      <th>0</th>\n",
       "      <td>2017-05-30</td>\n",
       "      <td>26.290001</td>\n",
       "      <td>26.440001</td>\n",
       "      <td>25.920000</td>\n",
       "      <td>26.320000</td>\n",
       "      <td>26.035059</td>\n",
       "      <td>150900</td>\n",
       "      <td>26.305000</td>\n",
       "    </tr>\n",
       "    <tr>\n",
       "      <th>1</th>\n",
       "      <td>2017-05-31</td>\n",
       "      <td>26.430000</td>\n",
       "      <td>26.490000</td>\n",
       "      <td>25.930000</td>\n",
       "      <td>26.290001</td>\n",
       "      <td>26.005384</td>\n",
       "      <td>94600</td>\n",
       "      <td>26.360000</td>\n",
       "    </tr>\n",
       "    <tr>\n",
       "      <th>2</th>\n",
       "      <td>2017-06-01</td>\n",
       "      <td>26.480000</td>\n",
       "      <td>26.650000</td>\n",
       "      <td>26.240000</td>\n",
       "      <td>26.629999</td>\n",
       "      <td>26.341703</td>\n",
       "      <td>64500</td>\n",
       "      <td>26.555000</td>\n",
       "    </tr>\n",
       "    <tr>\n",
       "      <th>3</th>\n",
       "      <td>2017-06-02</td>\n",
       "      <td>26.629999</td>\n",
       "      <td>27.379999</td>\n",
       "      <td>26.629999</td>\n",
       "      <td>26.910000</td>\n",
       "      <td>26.618671</td>\n",
       "      <td>81100</td>\n",
       "      <td>26.769999</td>\n",
       "    </tr>\n",
       "    <tr>\n",
       "      <th>4</th>\n",
       "      <td>2017-06-05</td>\n",
       "      <td>26.900000</td>\n",
       "      <td>26.930000</td>\n",
       "      <td>26.590000</td>\n",
       "      <td>26.730000</td>\n",
       "      <td>26.440620</td>\n",
       "      <td>54200</td>\n",
       "      <td>26.815000</td>\n",
       "    </tr>\n",
       "  </tbody>\n",
       "</table>\n",
       "</div>"
      ],
      "text/plain": [
       "         Date       open       high        low      close  adj close  volume  \\\n",
       "0  2017-05-30  26.290001  26.440001  25.920000  26.320000  26.035059  150900   \n",
       "1  2017-05-31  26.430000  26.490000  25.930000  26.290001  26.005384   94600   \n",
       "2  2017-06-01  26.480000  26.650000  26.240000  26.629999  26.341703   64500   \n",
       "3  2017-06-02  26.629999  27.379999  26.629999  26.910000  26.618671   81100   \n",
       "4  2017-06-05  26.900000  26.930000  26.590000  26.730000  26.440620   54200   \n",
       "\n",
       "     average  \n",
       "0  26.305000  \n",
       "1  26.360000  \n",
       "2  26.555000  \n",
       "3  26.769999  \n",
       "4  26.815000  "
      ]
     },
     "execution_count": 41,
     "metadata": {},
     "output_type": "execute_result"
    }
   ],
   "source": [
    "df.head()"
   ]
  },
  {
   "cell_type": "code",
   "execution_count": 46,
   "metadata": {
    "collapsed": true
   },
   "outputs": [],
   "source": [
    "df['Date']=df['Date'].apply(lambda x: int(''.join(x.split('-'))))"
   ]
  },
  {
   "cell_type": "code",
   "execution_count": 47,
   "metadata": {},
   "outputs": [
    {
     "data": {
      "text/html": [
       "<div>\n",
       "<style>\n",
       "    .dataframe thead tr:only-child th {\n",
       "        text-align: right;\n",
       "    }\n",
       "\n",
       "    .dataframe thead th {\n",
       "        text-align: left;\n",
       "    }\n",
       "\n",
       "    .dataframe tbody tr th {\n",
       "        vertical-align: top;\n",
       "    }\n",
       "</style>\n",
       "<table border=\"1\" class=\"dataframe\">\n",
       "  <thead>\n",
       "    <tr style=\"text-align: right;\">\n",
       "      <th></th>\n",
       "      <th>Date</th>\n",
       "      <th>open</th>\n",
       "      <th>high</th>\n",
       "      <th>low</th>\n",
       "      <th>close</th>\n",
       "      <th>adj close</th>\n",
       "      <th>volume</th>\n",
       "      <th>average</th>\n",
       "    </tr>\n",
       "  </thead>\n",
       "  <tbody>\n",
       "    <tr>\n",
       "      <th>0</th>\n",
       "      <td>20170530</td>\n",
       "      <td>26.290001</td>\n",
       "      <td>26.440001</td>\n",
       "      <td>25.920000</td>\n",
       "      <td>26.320000</td>\n",
       "      <td>26.035059</td>\n",
       "      <td>150900</td>\n",
       "      <td>26.305000</td>\n",
       "    </tr>\n",
       "    <tr>\n",
       "      <th>1</th>\n",
       "      <td>20170531</td>\n",
       "      <td>26.430000</td>\n",
       "      <td>26.490000</td>\n",
       "      <td>25.930000</td>\n",
       "      <td>26.290001</td>\n",
       "      <td>26.005384</td>\n",
       "      <td>94600</td>\n",
       "      <td>26.360000</td>\n",
       "    </tr>\n",
       "    <tr>\n",
       "      <th>2</th>\n",
       "      <td>20170601</td>\n",
       "      <td>26.480000</td>\n",
       "      <td>26.650000</td>\n",
       "      <td>26.240000</td>\n",
       "      <td>26.629999</td>\n",
       "      <td>26.341703</td>\n",
       "      <td>64500</td>\n",
       "      <td>26.555000</td>\n",
       "    </tr>\n",
       "    <tr>\n",
       "      <th>3</th>\n",
       "      <td>20170602</td>\n",
       "      <td>26.629999</td>\n",
       "      <td>27.379999</td>\n",
       "      <td>26.629999</td>\n",
       "      <td>26.910000</td>\n",
       "      <td>26.618671</td>\n",
       "      <td>81100</td>\n",
       "      <td>26.769999</td>\n",
       "    </tr>\n",
       "    <tr>\n",
       "      <th>4</th>\n",
       "      <td>20170605</td>\n",
       "      <td>26.900000</td>\n",
       "      <td>26.930000</td>\n",
       "      <td>26.590000</td>\n",
       "      <td>26.730000</td>\n",
       "      <td>26.440620</td>\n",
       "      <td>54200</td>\n",
       "      <td>26.815000</td>\n",
       "    </tr>\n",
       "  </tbody>\n",
       "</table>\n",
       "</div>"
      ],
      "text/plain": [
       "       Date       open       high        low      close  adj close  volume  \\\n",
       "0  20170530  26.290001  26.440001  25.920000  26.320000  26.035059  150900   \n",
       "1  20170531  26.430000  26.490000  25.930000  26.290001  26.005384   94600   \n",
       "2  20170601  26.480000  26.650000  26.240000  26.629999  26.341703   64500   \n",
       "3  20170602  26.629999  27.379999  26.629999  26.910000  26.618671   81100   \n",
       "4  20170605  26.900000  26.930000  26.590000  26.730000  26.440620   54200   \n",
       "\n",
       "     average  \n",
       "0  26.305000  \n",
       "1  26.360000  \n",
       "2  26.555000  \n",
       "3  26.769999  \n",
       "4  26.815000  "
      ]
     },
     "execution_count": 47,
     "metadata": {},
     "output_type": "execute_result"
    }
   ],
   "source": [
    "df.head()"
   ]
  },
  {
   "cell_type": "code",
   "execution_count": 48,
   "metadata": {},
   "outputs": [
    {
     "data": {
      "text/plain": [
       "Date           int64\n",
       "open         float64\n",
       "high         float64\n",
       "low          float64\n",
       "close        float64\n",
       "adj close    float64\n",
       "volume         int64\n",
       "average      float64\n",
       "dtype: object"
      ]
     },
     "execution_count": 48,
     "metadata": {},
     "output_type": "execute_result"
    }
   ],
   "source": [
    "df.dtypes"
   ]
  },
  {
   "cell_type": "code",
   "execution_count": 49,
   "metadata": {
    "collapsed": true
   },
   "outputs": [],
   "source": [
    "date=df['Date'].values\n",
    "price=df['average'].values"
   ]
  },
  {
   "cell_type": "code",
   "execution_count": 59,
   "metadata": {},
   "outputs": [
    {
     "data": {
      "text/plain": [
       "(numpy.ndarray, numpy.ndarray)"
      ]
     },
     "execution_count": 59,
     "metadata": {},
     "output_type": "execute_result"
    }
   ],
   "source": [
    "type(date),type(price)"
   ]
  },
  {
   "cell_type": "code",
   "execution_count": 14,
   "metadata": {},
   "outputs": [
    {
     "data": {
      "text/plain": [
       "((252,), (252,))"
      ]
     },
     "execution_count": 14,
     "metadata": {},
     "output_type": "execute_result"
    }
   ],
   "source": [
    "date.shape,price.shape"
   ]
  },
  {
   "cell_type": "markdown",
   "metadata": {},
   "source": [
    "reshaping"
   ]
  },
  {
   "cell_type": "code",
   "execution_count": 61,
   "metadata": {},
   "outputs": [
    {
     "data": {
      "text/plain": [
       "((252, 1), (252,))"
      ]
     },
     "execution_count": 61,
     "metadata": {},
     "output_type": "execute_result"
    }
   ],
   "source": [
    "X=date.reshape(252,1)\n",
    "y=price.reshape(252,)\n",
    "X.shape,y.shape"
   ]
  },
  {
   "cell_type": "markdown",
   "metadata": {},
   "source": [
    "# creating the model,from a suport vector machine class ,the SVR\n",
    "    \n",
    "  we are going to fine tune the kernel parameter manualy and pick the best performer of this"
   ]
  },
  {
   "cell_type": "code",
   "execution_count": 62,
   "metadata": {
    "collapsed": true
   },
   "outputs": [],
   "source": [
    "import matplotlib.pyplot as plt\n",
    "from sklearn.svm import SVR\n",
    "from sklearn.model_selection import GridSearchCV\n",
    "from sklearn.model_selection import train_test_split\n",
    "# creating the train test split\n",
    "X_train,X_test,y_train,y_test=train_test_split(X,y,\n",
    "                                               test_size=0.1,random_state=42)"
   ]
  },
  {
   "cell_type": "markdown",
   "metadata": {},
   "source": [
    "# creating a pipeline\n",
    "this is for preprossesing just incase our file had missing data "
   ]
  },
  {
   "cell_type": "code",
   "execution_count": 63,
   "metadata": {
    "collapsed": true
   },
   "outputs": [],
   "source": [
    "from sklearn.preprocessing import Imputer\n",
    "from sklearn.pipeline import Pipeline\n",
    "\n",
    "imp=Imputer(missing_values='NaN',strategy='mean',axis=0)\n",
    "steps=[('imputer',imp),('SVR',SVR())]\n",
    "pipeline=Pipeline(steps)\n"
   ]
  },
  {
   "cell_type": "markdown",
   "metadata": {},
   "source": [
    "from the documentation we that we see can find the hyper parameters that can be tuned \n",
    "tune the : kernel,C ,gamma and dgree ,lets Do some grid search on them"
   ]
  },
  {
   "cell_type": "code",
   "execution_count": null,
   "metadata": {
    "collapsed": true
   },
   "outputs": [],
   "source": [
    "param_grid={'kernel':['linear','poly','rbf'],'C':np.array([1e0,1e1]), \n",
    "            'degree':np.array([2,3]),'gamma':[0.05,0.1,0.2,0.4]}\n",
    "#\n",
    "\n",
    "gm_cv=GridSearchCV(SVR(),param_grid,cv=10)#,param_grid\n",
    "gm_cv.fit(X_train,y_train)\n",
    "\n",
    "#predicting with the best parameters\n",
    "y_pred=gm_cv.prdict(X_test)\n",
    "\n",
    "#scoring\n",
    "r2=gm_cv.score(X_test,y_test)\n",
    "\n",
    "print('the best parameteers were'+gm_cv.best_params_)\n",
    "print('with an R squared score of '+ r2)"
   ]
  },
  {
   "cell_type": "code",
   "execution_count": null,
   "metadata": {
    "collapsed": true
   },
   "outputs": [],
   "source": [
    "SVR.get_params(SVR).keys()"
   ]
  },
  {
   "cell_type": "code",
   "execution_count": null,
   "metadata": {
    "collapsed": true
   },
   "outputs": [],
   "source": [
    "# plotting"
   ]
  },
  {
   "cell_type": "code",
   "execution_count": null,
   "metadata": {
    "collapsed": true
   },
   "outputs": [],
   "source": [
    "plt.plot(X_date,y_price,color='green',label='The Actual')\n",
    "plt.plot(X_date,y_pred,color='green',label='The Best Of Our Model')\n",
    "plt.xlabel('dates')\n",
    "plt.ylabel('prices')\n",
    "plt.title('suport vector regression')\n",
    "plt.legend()\n",
    "plt.grid(True)\n",
    "plt.show()"
   ]
  },
  {
   "cell_type": "markdown",
   "metadata": {},
   "source": [
    "# visualizing the models one by one"
   ]
  },
  {
   "cell_type": "markdown",
   "metadata": {},
   "source": [
    "initializing and fitting the models"
   ]
  },
  {
   "cell_type": "code",
   "execution_count": null,
   "metadata": {
    "collapsed": true
   },
   "outputs": [],
   "source": [
    "svr_lin=SVR#(kernel='linear',C=1e3)\n",
    "svr_poly=SVR(kernel='poly',C=1e3,degree=2)\n",
    "svr_rbf=SVR(kernel='rbf',C=1e3,gamma=0.1)\n",
    "\n",
    "svr_lin.fit(date,price)\n",
    "svr_poly.fit(X_train,y_train)\n",
    "svr_rbf.fit(X_train,y_train)"
   ]
  },
  {
   "cell_type": "code",
   "execution_count": 21,
   "metadata": {
    "collapsed": true
   },
   "outputs": [
    {
     "data": {
      "text/plain": [
       "array([['2018-02-23T00:00:00.000000000'],\n",
       "       ['2018-04-12T00:00:00.000000000'],\n",
       "       ['2017-06-13T00:00:00.000000000'],\n",
       "       ['2018-01-19T00:00:00.000000000'],\n",
       "       ['2017-12-15T00:00:00.000000000'],\n",
       "       ['2017-10-13T00:00:00.000000000'],\n",
       "       ['2017-11-24T00:00:00.000000000'],\n",
       "       ['2017-09-25T00:00:00.000000000'],\n",
       "       ['2018-04-04T00:00:00.000000000'],\n",
       "       ['2017-07-05T00:00:00.000000000'],\n",
       "       ['2017-11-01T00:00:00.000000000'],\n",
       "       ['2017-06-23T00:00:00.000000000'],\n",
       "       ['2018-03-22T00:00:00.000000000'],\n",
       "       ['2018-02-16T00:00:00.000000000'],\n",
       "       ['2017-09-01T00:00:00.000000000'],\n",
       "       ['2017-12-05T00:00:00.000000000'],\n",
       "       ['2018-01-10T00:00:00.000000000'],\n",
       "       ['2017-12-20T00:00:00.000000000'],\n",
       "       ['2017-08-02T00:00:00.000000000'],\n",
       "       ['2018-02-12T00:00:00.000000000'],\n",
       "       ['2017-06-21T00:00:00.000000000'],\n",
       "       ['2017-08-31T00:00:00.000000000'],\n",
       "       ['2017-12-19T00:00:00.000000000'],\n",
       "       ['2018-02-07T00:00:00.000000000'],\n",
       "       ['2017-07-24T00:00:00.000000000'],\n",
       "       ['2017-12-11T00:00:00.000000000'],\n",
       "       ['2017-08-16T00:00:00.000000000'],\n",
       "       ['2018-03-21T00:00:00.000000000'],\n",
       "       ['2018-04-09T00:00:00.000000000'],\n",
       "       ['2017-12-27T00:00:00.000000000'],\n",
       "       ['2017-12-21T00:00:00.000000000'],\n",
       "       ['2018-04-13T00:00:00.000000000'],\n",
       "       ['2018-03-06T00:00:00.000000000'],\n",
       "       ['2018-05-24T00:00:00.000000000'],\n",
       "       ['2018-01-31T00:00:00.000000000'],\n",
       "       ['2017-11-27T00:00:00.000000000'],\n",
       "       ['2017-10-16T00:00:00.000000000'],\n",
       "       ['2018-01-12T00:00:00.000000000'],\n",
       "       ['2017-09-20T00:00:00.000000000'],\n",
       "       ['2018-05-22T00:00:00.000000000'],\n",
       "       ['2018-05-09T00:00:00.000000000'],\n",
       "       ['2018-03-13T00:00:00.000000000'],\n",
       "       ['2017-11-06T00:00:00.000000000'],\n",
       "       ['2017-09-12T00:00:00.000000000'],\n",
       "       ['2017-09-06T00:00:00.000000000'],\n",
       "       ['2017-11-15T00:00:00.000000000'],\n",
       "       ['2017-09-14T00:00:00.000000000'],\n",
       "       ['2017-11-07T00:00:00.000000000'],\n",
       "       ['2017-11-14T00:00:00.000000000'],\n",
       "       ['2017-11-16T00:00:00.000000000'],\n",
       "       ['2018-05-10T00:00:00.000000000'],\n",
       "       ['2017-09-27T00:00:00.000000000'],\n",
       "       ['2017-07-11T00:00:00.000000000'],\n",
       "       ['2018-01-29T00:00:00.000000000'],\n",
       "       ['2018-01-26T00:00:00.000000000'],\n",
       "       ['2018-05-02T00:00:00.000000000'],\n",
       "       ['2017-06-06T00:00:00.000000000'],\n",
       "       ['2017-08-17T00:00:00.000000000'],\n",
       "       ['2018-02-08T00:00:00.000000000'],\n",
       "       ['2018-04-24T00:00:00.000000000'],\n",
       "       ['2017-10-31T00:00:00.000000000'],\n",
       "       ['2017-08-30T00:00:00.000000000'],\n",
       "       ['2017-12-12T00:00:00.000000000'],\n",
       "       ['2017-11-28T00:00:00.000000000'],\n",
       "       ['2018-04-06T00:00:00.000000000'],\n",
       "       ['2018-01-02T00:00:00.000000000'],\n",
       "       ['2017-07-13T00:00:00.000000000'],\n",
       "       ['2017-06-15T00:00:00.000000000'],\n",
       "       ['2017-07-19T00:00:00.000000000'],\n",
       "       ['2017-07-10T00:00:00.000000000'],\n",
       "       ['2017-07-28T00:00:00.000000000'],\n",
       "       ['2018-04-16T00:00:00.000000000'],\n",
       "       ['2017-06-29T00:00:00.000000000'],\n",
       "       ['2017-10-10T00:00:00.000000000'],\n",
       "       ['2018-02-21T00:00:00.000000000'],\n",
       "       ['2017-10-25T00:00:00.000000000'],\n",
       "       ['2017-08-10T00:00:00.000000000'],\n",
       "       ['2017-11-08T00:00:00.000000000'],\n",
       "       ['2017-10-12T00:00:00.000000000'],\n",
       "       ['2018-05-11T00:00:00.000000000'],\n",
       "       ['2018-03-16T00:00:00.000000000'],\n",
       "       ['2017-09-15T00:00:00.000000000'],\n",
       "       ['2017-07-27T00:00:00.000000000'],\n",
       "       ['2018-05-07T00:00:00.000000000'],\n",
       "       ['2018-01-08T00:00:00.000000000'],\n",
       "       ['2017-09-19T00:00:00.000000000'],\n",
       "       ['2018-04-30T00:00:00.000000000'],\n",
       "       ['2017-07-06T00:00:00.000000000'],\n",
       "       ['2018-05-16T00:00:00.000000000'],\n",
       "       ['2018-03-12T00:00:00.000000000'],\n",
       "       ['2018-03-01T00:00:00.000000000'],\n",
       "       ['2017-12-14T00:00:00.000000000'],\n",
       "       ['2017-05-30T00:00:00.000000000'],\n",
       "       ['2017-06-01T00:00:00.000000000'],\n",
       "       ['2017-09-18T00:00:00.000000000'],\n",
       "       ['2017-08-03T00:00:00.000000000'],\n",
       "       ['2017-10-19T00:00:00.000000000'],\n",
       "       ['2018-05-18T00:00:00.000000000'],\n",
       "       ['2018-01-04T00:00:00.000000000'],\n",
       "       ['2018-02-15T00:00:00.000000000'],\n",
       "       ['2017-10-05T00:00:00.000000000'],\n",
       "       ['2017-09-28T00:00:00.000000000'],\n",
       "       ['2018-02-09T00:00:00.000000000'],\n",
       "       ['2017-10-17T00:00:00.000000000'],\n",
       "       ['2017-07-20T00:00:00.000000000'],\n",
       "       ['2017-08-24T00:00:00.000000000'],\n",
       "       ['2018-01-23T00:00:00.000000000'],\n",
       "       ['2017-12-18T00:00:00.000000000'],\n",
       "       ['2017-06-14T00:00:00.000000000'],\n",
       "       ['2018-05-21T00:00:00.000000000'],\n",
       "       ['2018-03-15T00:00:00.000000000'],\n",
       "       ['2017-07-07T00:00:00.000000000'],\n",
       "       ['2018-01-09T00:00:00.000000000'],\n",
       "       ['2017-06-05T00:00:00.000000000'],\n",
       "       ['2017-11-20T00:00:00.000000000'],\n",
       "       ['2017-07-14T00:00:00.000000000'],\n",
       "       ['2017-12-26T00:00:00.000000000'],\n",
       "       ['2018-02-14T00:00:00.000000000'],\n",
       "       ['2017-12-13T00:00:00.000000000'],\n",
       "       ['2017-08-25T00:00:00.000000000'],\n",
       "       ['2017-12-08T00:00:00.000000000'],\n",
       "       ['2017-11-29T00:00:00.000000000'],\n",
       "       ['2018-04-25T00:00:00.000000000'],\n",
       "       ['2018-04-19T00:00:00.000000000'],\n",
       "       ['2017-09-07T00:00:00.000000000'],\n",
       "       ['2018-03-07T00:00:00.000000000'],\n",
       "       ['2017-08-29T00:00:00.000000000'],\n",
       "       ['2017-08-01T00:00:00.000000000'],\n",
       "       ['2018-05-25T00:00:00.000000000'],\n",
       "       ['2017-07-26T00:00:00.000000000'],\n",
       "       ['2017-11-21T00:00:00.000000000'],\n",
       "       ['2018-01-05T00:00:00.000000000'],\n",
       "       ['2017-06-30T00:00:00.000000000'],\n",
       "       ['2018-04-03T00:00:00.000000000'],\n",
       "       ['2018-02-22T00:00:00.000000000'],\n",
       "       ['2017-09-22T00:00:00.000000000'],\n",
       "       ['2017-07-25T00:00:00.000000000'],\n",
       "       ['2018-04-02T00:00:00.000000000'],\n",
       "       ['2017-08-04T00:00:00.000000000'],\n",
       "       ['2017-10-11T00:00:00.000000000'],\n",
       "       ['2018-03-05T00:00:00.000000000'],\n",
       "       ['2018-01-18T00:00:00.000000000'],\n",
       "       ['2017-07-31T00:00:00.000000000'],\n",
       "       ['2017-12-22T00:00:00.000000000'],\n",
       "       ['2018-02-05T00:00:00.000000000'],\n",
       "       ['2017-06-02T00:00:00.000000000'],\n",
       "       ['2017-10-26T00:00:00.000000000'],\n",
       "       ['2017-08-14T00:00:00.000000000'],\n",
       "       ['2017-12-06T00:00:00.000000000'],\n",
       "       ['2018-04-26T00:00:00.000000000'],\n",
       "       ['2018-03-08T00:00:00.000000000'],\n",
       "       ['2018-05-03T00:00:00.000000000'],\n",
       "       ['2017-08-08T00:00:00.000000000'],\n",
       "       ['2018-01-22T00:00:00.000000000'],\n",
       "       ['2017-09-21T00:00:00.000000000'],\n",
       "       ['2017-07-18T00:00:00.000000000'],\n",
       "       ['2018-03-27T00:00:00.000000000'],\n",
       "       ['2017-06-08T00:00:00.000000000'],\n",
       "       ['2018-02-01T00:00:00.000000000'],\n",
       "       ['2017-11-02T00:00:00.000000000'],\n",
       "       ['2017-10-06T00:00:00.000000000'],\n",
       "       ['2017-09-26T00:00:00.000000000'],\n",
       "       ['2018-04-20T00:00:00.000000000'],\n",
       "       ['2018-04-27T00:00:00.000000000'],\n",
       "       ['2017-10-04T00:00:00.000000000'],\n",
       "       ['2017-06-09T00:00:00.000000000'],\n",
       "       ['2017-06-16T00:00:00.000000000'],\n",
       "       ['2017-08-22T00:00:00.000000000'],\n",
       "       ['2018-04-10T00:00:00.000000000'],\n",
       "       ['2017-12-04T00:00:00.000000000'],\n",
       "       ['2017-06-22T00:00:00.000000000'],\n",
       "       ['2018-01-25T00:00:00.000000000'],\n",
       "       ['2017-09-11T00:00:00.000000000'],\n",
       "       ['2018-04-17T00:00:00.000000000'],\n",
       "       ['2017-12-07T00:00:00.000000000'],\n",
       "       ['2018-03-23T00:00:00.000000000'],\n",
       "       ['2018-05-01T00:00:00.000000000'],\n",
       "       ['2017-08-28T00:00:00.000000000'],\n",
       "       ['2017-08-15T00:00:00.000000000'],\n",
       "       ['2017-10-30T00:00:00.000000000'],\n",
       "       ['2017-08-09T00:00:00.000000000'],\n",
       "       ['2018-03-28T00:00:00.000000000'],\n",
       "       ['2018-02-06T00:00:00.000000000'],\n",
       "       ['2018-05-14T00:00:00.000000000'],\n",
       "       ['2018-02-28T00:00:00.000000000'],\n",
       "       ['2018-05-23T00:00:00.000000000'],\n",
       "       ['2018-03-26T00:00:00.000000000'],\n",
       "       ['2018-04-18T00:00:00.000000000'],\n",
       "       ['2018-01-30T00:00:00.000000000'],\n",
       "       ['2017-08-21T00:00:00.000000000'],\n",
       "       ['2017-08-07T00:00:00.000000000'],\n",
       "       ['2017-10-03T00:00:00.000000000'],\n",
       "       ['2017-06-28T00:00:00.000000000'],\n",
       "       ['2017-08-18T00:00:00.000000000'],\n",
       "       ['2018-03-20T00:00:00.000000000'],\n",
       "       ['2018-01-17T00:00:00.000000000'],\n",
       "       ['2018-05-17T00:00:00.000000000'],\n",
       "       ['2018-02-26T00:00:00.000000000'],\n",
       "       ['2018-03-02T00:00:00.000000000'],\n",
       "       ['2017-11-30T00:00:00.000000000'],\n",
       "       ['2017-07-21T00:00:00.000000000'],\n",
       "       ['2018-01-11T00:00:00.000000000'],\n",
       "       ['2018-05-08T00:00:00.000000000'],\n",
       "       ['2017-05-31T00:00:00.000000000'],\n",
       "       ['2017-08-11T00:00:00.000000000'],\n",
       "       ['2017-12-29T00:00:00.000000000'],\n",
       "       ['2017-12-01T00:00:00.000000000'],\n",
       "       ['2018-01-03T00:00:00.000000000'],\n",
       "       ['2017-10-24T00:00:00.000000000'],\n",
       "       ['2017-10-18T00:00:00.000000000'],\n",
       "       ['2017-11-10T00:00:00.000000000'],\n",
       "       ['2017-10-02T00:00:00.000000000'],\n",
       "       ['2018-03-19T00:00:00.000000000'],\n",
       "       ['2017-09-13T00:00:00.000000000'],\n",
       "       ['2018-04-05T00:00:00.000000000'],\n",
       "       ['2018-03-29T00:00:00.000000000'],\n",
       "       ['2017-11-17T00:00:00.000000000'],\n",
       "       ['2018-05-29T00:00:00.000000000'],\n",
       "       ['2017-06-27T00:00:00.000000000'],\n",
       "       ['2018-02-27T00:00:00.000000000'],\n",
       "       ['2017-09-08T00:00:00.000000000'],\n",
       "       ['2017-10-27T00:00:00.000000000'],\n",
       "       ['2017-06-19T00:00:00.000000000'],\n",
       "       ['2017-10-09T00:00:00.000000000'],\n",
       "       ['2018-02-13T00:00:00.000000000'],\n",
       "       ['2017-10-23T00:00:00.000000000']], dtype='datetime64[ns]')"
      ]
     },
     "execution_count": 21,
     "metadata": {},
     "output_type": "execute_result"
    }
   ],
   "source": [
    "X_train"
   ]
  },
  {
   "cell_type": "markdown",
   "metadata": {},
   "source": [
    "predicting "
   ]
  },
  {
   "cell_type": "code",
   "execution_count": null,
   "metadata": {
    "collapsed": true
   },
   "outputs": [],
   "source": []
  },
  {
   "cell_type": "code",
   "execution_count": null,
   "metadata": {
    "collapsed": true
   },
   "outputs": [],
   "source": [
    "y_pred_lin=svr_lin.predict(X_test)\n",
    "y_pred_poly=svr_poly.predict(X_test)\n",
    "y_pred_rbf=svr_rbf.predict(X_test)"
   ]
  },
  {
   "cell_type": "markdown",
   "metadata": {},
   "source": [
    "plotting"
   ]
  },
  {
   "cell_type": "code",
   "execution_count": null,
   "metadata": {
    "collapsed": true
   },
   "outputs": [],
   "source": [
    "plt.scatter(X_dates,y_price,c='black',label='Data')\n",
    "plt.plot(X_date,y_pred_lin,color='red',label='linear Kernel')\n",
    "#plt.plot(X_date,y_pred_poly,color='blue',label='Poly Kernel')\n",
    "#plt.plot(X_date,y_pred_rbf,color='green',label='RBF Kernel')\n",
    "plt.xlabel('dates')\n",
    "plt.ylabel('prices')\n",
    "plt.title('suport vector regression')\n",
    "plt.legend()\n",
    "plt.grid(True)\n",
    "plt.show()"
   ]
  },
  {
   "cell_type": "code",
   "execution_count": null,
   "metadata": {
    "collapsed": true
   },
   "outputs": [],
   "source": []
  }
 ],
 "metadata": {
  "kernelspec": {
   "display_name": "Python 3",
   "language": "python",
   "name": "python3"
  },
  "language_info": {
   "codemirror_mode": {
    "name": "ipython",
    "version": 3
   },
   "file_extension": ".py",
   "mimetype": "text/x-python",
   "name": "python",
   "nbconvert_exporter": "python",
   "pygments_lexer": "ipython3",
   "version": "3.6.2"
  }
 },
 "nbformat": 4,
 "nbformat_minor": 2
}
